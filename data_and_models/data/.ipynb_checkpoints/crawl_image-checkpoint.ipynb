{
 "cells": [
  {
   "cell_type": "code",
   "execution_count": 2,
   "id": "f8d654ab-52d0-4b45-ab2d-7b899af88491",
   "metadata": {},
   "outputs": [],
   "source": [
    "# !pip install simple-image-download"
   ]
  },
  {
   "cell_type": "code",
   "execution_count": 3,
   "id": "271a2de6-7213-48bc-96de-8be8c3dcf7a3",
   "metadata": {},
   "outputs": [],
   "source": [
    "from simple_image_download import simple_image_download as simp"
   ]
  },
  {
   "cell_type": "code",
   "execution_count": null,
   "id": "f9332776-deff-4020-a365-420ab66b8de1",
   "metadata": {},
   "outputs": [],
   "source": [
    "response = simp.simple_image_download\n",
    "response().download('Persion Cat',50)"
   ]
  }
 ],
 "metadata": {
  "kernelspec": {
   "display_name": "Python 3",
   "language": "python",
   "name": "python3"
  },
  "language_info": {
   "codemirror_mode": {
    "name": "ipython",
    "version": 3
   },
   "file_extension": ".py",
   "mimetype": "text/x-python",
   "name": "python",
   "nbconvert_exporter": "python",
   "pygments_lexer": "ipython3",
   "version": "3.8.17"
  }
 },
 "nbformat": 4,
 "nbformat_minor": 5
}
