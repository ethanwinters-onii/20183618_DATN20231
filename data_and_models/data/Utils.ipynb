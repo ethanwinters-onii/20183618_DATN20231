{
 "cells": [
  {
   "cell_type": "code",
   "execution_count": 21,
   "id": "6a40194a-8608-473c-b0c3-4d6547655589",
   "metadata": {},
   "outputs": [],
   "source": [
    "from PIL import Image\n",
    "import os\n",
    "\n",
    "def create_directory_if_not_exists(directory_path):\n",
    "    if not os.path.exists(directory_path):\n",
    "        os.makedirs(directory_path)\n",
    "\n",
    "def resize_image_with_min_width(image_path, dir, output_path):\n",
    "    # Load the image\n",
    "    image = Image.open(image_path)\n",
    "\n",
    "    # Get the original width and height\n",
    "    original_width, original_height = image.size\n",
    "\n",
    "    create_directory_if_not_exists(dir)\n",
    "\n",
    "    # Check if resizing is necessary\n",
    "    if original_width < 300 or original_height < 300:\n",
    "        # If either dimension is less than 300, don't resize\n",
    "        # cv2.imwrite(output_path, img)\n",
    "        image.save(output_path, optimize=True, quality=100)\n",
    "    else:\n",
    "        # Calculate the new height while maintaining the aspect ratio\n",
    "        new_width = 300\n",
    "        new_height = int((original_height / original_width) * new_width)\n",
    "\n",
    "        # Resize the image\n",
    "        # resized_img = cv2.resize(img, (new_width, new_height), interpolation=cv2.INTER_CUBIC)\n",
    "        resized_image = image.resize((new_width, new_height))\n",
    "\n",
    "        # Save the resized image\n",
    "        # cv2.imwrite(output_path, resized_img)\n",
    "        resized_image.save(output_path, optimize=True, quality=100)\n",
    "\n",
    "# Example usage:\n",
    "# input_image_path = 'input_image.jpg'\n",
    "# output_image_path = 'output_image.jpg'\n",
    "# resize_image_with_min_width(input_image_path, output_image_path)"
   ]
  },
  {
   "cell_type": "code",
   "execution_count": 96,
   "id": "bcce1940-cb05-4650-b5d4-e36818900cfb",
   "metadata": {},
   "outputs": [],
   "source": [
    "input_image_path = 'cat_images/Mèo Burmilla/Mèo Burmilla_50.jpg'\n",
    "dir = f'fb_storage/{input_image_path.split(\"/\")[1]}'\n",
    "output_image_path = f'fb_storage/{input_image_path.split(\"/\")[1]}/img4.jpg'\n",
    "resize_image_with_min_width(input_image_path, dir, output_image_path)"
   ]
  },
  {
   "cell_type": "code",
   "execution_count": null,
   "id": "c3a7101b-3fdb-4982-9aeb-c2389650fb43",
   "metadata": {},
   "outputs": [],
   "source": []
  },
  {
   "cell_type": "code",
   "execution_count": null,
   "id": "9e0fe80d-f107-43b4-be1e-2ac400142512",
   "metadata": {},
   "outputs": [],
   "source": []
  }
 ],
 "metadata": {
  "kernelspec": {
   "display_name": "Python 3",
   "language": "python",
   "name": "python3"
  },
  "language_info": {
   "codemirror_mode": {
    "name": "ipython",
    "version": 3
   },
   "file_extension": ".py",
   "mimetype": "text/x-python",
   "name": "python",
   "nbconvert_exporter": "python",
   "pygments_lexer": "ipython3",
   "version": "3.8.17"
  }
 },
 "nbformat": 4,
 "nbformat_minor": 5
}
